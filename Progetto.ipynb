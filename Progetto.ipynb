{
  "cells": [
    {
      "cell_type": "markdown",
      "metadata": {
        "id": "view-in-github",
        "colab_type": "text"
      },
      "source": [
        "<a href=\"https://colab.research.google.com/github/RinaldoMancosu/Progetto_pytorch/blob/main/Progetto.ipynb\" target=\"_parent\"><img src=\"https://colab.research.google.com/assets/colab-badge.svg\" alt=\"Open In Colab\"/></a>"
      ]
    },
    {
      "cell_type": "markdown",
      "metadata": {
        "id": "7jNPB-tZQEEq"
      },
      "source": [
        "### **PROGETTO DATA VISUALIZATION**"
      ]
    },
    {
      "cell_type": "code",
      "execution_count": 1,
      "metadata": {
        "colab": {
          "base_uri": "https://localhost:8080/"
        },
        "id": "csrLz_DRgqhU",
        "outputId": "17708a5f-3a40-46d5-cee7-2c283718a798"
      },
      "outputs": [
        {
          "output_type": "stream",
          "name": "stdout",
          "text": [
            "Cloning into 'Dataset'...\n",
            "remote: Enumerating objects: 30314, done.\u001b[K\n",
            "remote: Counting objects: 100% (10266/10266), done.\u001b[K\n",
            "remote: Compressing objects: 100% (10244/10244), done.\u001b[K\n",
            "remote: Total 30314 (delta 20), reused 10266 (delta 20), pack-reused 20048\u001b[K\n",
            "Receiving objects: 100% (30314/30314), 7.46 GiB | 17.89 MiB/s, done.\n",
            "Resolving deltas: 100% (29/29), done.\n",
            "Updating files: 100% (31201/31201), done.\n"
          ]
        }
      ],
      "source": [
        "%matplotlib inline\n",
        "\n",
        "# Clona la repository git hub contenente i vari Dataset\n",
        "!git clone https://github.com/RinaldoMancosu/Dataset.git"
      ]
    },
    {
      "cell_type": "code",
      "execution_count": 2,
      "metadata": {
        "colab": {
          "base_uri": "https://localhost:8080/"
        },
        "id": "LikMErphgqvd",
        "outputId": "44c37a4b-d721-4a19-8845-8dbab63a87d4"
      },
      "outputs": [
        {
          "output_type": "stream",
          "name": "stdout",
          "text": [
            "PyTorch Version:  2.0.1+cu118\n",
            "Torchvision Version:  0.15.2+cu118\n",
            "cuda:0\n"
          ]
        }
      ],
      "source": [
        "# import delle librerie necessarie\n",
        "from __future__ import print_function\n",
        "from __future__ import division\n",
        "import torch\n",
        "import torch.nn as nn\n",
        "import torch.optim as optim\n",
        "import numpy as np\n",
        "import torchvision\n",
        "from torchvision import datasets, models, transforms\n",
        "import matplotlib.pyplot as plt\n",
        "import time\n",
        "import os\n",
        "import copy\n",
        "print(\"PyTorch Version: \",torch.__version__)\n",
        "print(\"Torchvision Version: \",torchvision.__version__)\n",
        "\n",
        "# Controlla se il dispositivo ha una GPU con cuda, altrimenti utilizza la cpu\n",
        "device = torch.device(\"cuda:0\" if torch.cuda.is_available() else \"cpu\")\n",
        "print(device)"
      ]
    },
    {
      "cell_type": "markdown",
      "source": [
        "# **INIZIALIZZAZIONE E DEFINIZIONE DEI MODELLI**"
      ],
      "metadata": {
        "id": "qjrPnaTJRq-1"
      }
    },
    {
      "cell_type": "code",
      "execution_count": 3,
      "metadata": {
        "id": "7OVDd8Udgq50"
      },
      "outputs": [],
      "source": [
        "#Si salva in data_dir il dataset che si andrà ad utilizzare\n",
        "data_dir_1 = \"Dataset/Skybox\"\n",
        "data_dir_2 = \"Dataset/Skybox_colore\"\n",
        "data_dir_3 = \"Dataset/Skybox-Colore_oggetto\"\n",
        "data_dir_4 = \"Dataset/Skybox-Material_oggetto\"\n",
        "data_dir_5 = \"Dataset/Skybox-Luci\"\n",
        "data_dir_6 = \"Dataset/Skybox-Luci-Material_oggetto\"\n",
        "\n",
        "# Numero di classi presenti nel dataset (gli oggetti da riconoscere)\n",
        "num_classes = 20\n",
        "\n",
        "# Numero di immagini che vengono elaborate insieme prima di aggiornare i pesi\n",
        "batch_size = 16\n",
        "\n",
        "# Numero di volte in cui l'intero dataset viene addestrato\n",
        "num_epochs = 15\n",
        "\n",
        "model_name = \"squeezenet\""
      ]
    },
    {
      "cell_type": "code",
      "execution_count": 4,
      "metadata": {
        "id": "xNrV3JHkpszr"
      },
      "outputs": [],
      "source": [
        "# Definizione della funzione di training\n",
        "# Ha come input: il modello, i dataloader, la loss function, l'optimizer usato nel training e il numero di epoche a run\n",
        "# Ha come output: il modello addestrato, l'elenco dei valori delle accuracy e loss per epoca\n",
        "\n",
        "def train_model(model, dataloaders, criterion, optimizer, model_name, num_epochs):\n",
        "    since = time.time()           # monitora il tempo di esecuzione\n",
        "\n",
        "    train_acc_history = []\n",
        "    train_loss_history = []\n",
        "    val_acc_history = []\n",
        "    val_loss_history = []\n",
        "\n",
        "    best_model_wts = copy.deepcopy(model.state_dict())\n",
        "    best_acc = 0.0\n",
        "\n",
        "# per ogni epoca\n",
        "    for epoch in range(num_epochs):\n",
        "        print('Epoca {}/{}'.format(epoch, num_epochs - 1))\n",
        "        print('-' * 10)\n",
        "\n",
        "# in ogni epoca ci sarà una fase di allenamento e una di valutazione\n",
        "        for phase in ['train', 'val']:\n",
        "            if phase == 'train':\n",
        "                model.train()           # Setta il modello in modalità di training\n",
        "            else:\n",
        "                model.eval()            # Setta il modello in modalità di valutazione\n",
        "\n",
        "            running_loss = 0.0\n",
        "            running_corrects = 0\n",
        "\n",
        "            for inputs, labels in dataloaders[phase]:         # ciclo for eseguito per ogni batch di train e val\n",
        "                inputs = inputs.to(device)\n",
        "                labels = labels.to(device)\n",
        "\n",
        "                optimizer.zero_grad()             # azzera il valore del gradiente\n",
        "\n",
        "                with torch.set_grad_enabled(phase == 'train'):\n",
        "                    outputs = model(inputs)\n",
        "                    loss = criterion(outputs, labels)       # calcola la loss a partire da output e label\n",
        "                    _, preds = torch.max(outputs, 1)        # calcola le predizioni del modello a partire dagli output\n",
        "\n",
        "                    if phase == 'train':\n",
        "                      loss.backward()           # calcola i gradienti dei pesi\n",
        "                      optimizer.step()          # aggiorna i pesi del modello\n",
        "\n",
        "                running_loss += loss.item() * inputs.size(0)                    # calcola il totale della loss\n",
        "                running_corrects += torch.sum(preds == labels.data)             # calcola il totale delle predizioni corrette\n",
        "\n",
        "            epoch_loss = running_loss / len(dataloaders[phase].dataset)                 # calcola la loss media di un'epoca\n",
        "            epoch_acc = running_corrects.double() / len(dataloaders[phase].dataset)     # calcola l' accuracy media di un'epoca\n",
        "\n",
        "            print('{} --- Loss: {:.4f} - Accuracy: {:.4f}'.format(phase, epoch_loss, epoch_acc))\n",
        "\n",
        "# se nella fase di valutazione si ha un'accuracy migliore\n",
        "            if phase == 'val' and epoch_acc > best_acc:\n",
        "                best_acc = epoch_acc\n",
        "                best_model_wts = copy.deepcopy(model.state_dict())              # salva una copia dei pesi del modello\n",
        "                print(\"Pesi migliori trovati\\n\")\n",
        "\n",
        "# Salva i valori di accuracy e loss delle fasi di train e val\n",
        "            if phase == 'val':\n",
        "                val_acc_history.append(epoch_acc)\n",
        "                val_loss_history.append(epoch_loss)\n",
        "            if phase == 'train':\n",
        "                train_acc_history.append(epoch_acc)\n",
        "                train_loss_history.append(epoch_loss)\n",
        "\n",
        "        print()\n",
        "\n",
        "    time_elapsed = time.time() - since                    # tempo passato dall'inizio dell'esecuzione\n",
        "    print('Training completato in {:.0f}m {:.0f}s'.format(time_elapsed // 60, time_elapsed % 60))\n",
        "    print('Miglior valore di accuracy: {:4f}'.format(best_acc))\n",
        "    print('\\n\\n\\n')\n",
        "\n",
        "    model.load_state_dict(best_model_wts)           # carica i pesi migliori del modello\n",
        "    return model, val_acc_history, val_loss_history, train_acc_history, train_loss_history"
      ]
    },
    {
      "cell_type": "code",
      "execution_count": 5,
      "metadata": {
        "id": "1GLt5oOYZKNJ"
      },
      "outputs": [],
      "source": [
        "# se False aggiorna solo i pesi dell'ultimo layer\n",
        "def set_parameter_requires_grad(model, feature_extracting):\n",
        "    if feature_extracting:\n",
        "        for param in model.parameters():\n",
        "            param.requires_grad = False"
      ]
    },
    {
      "cell_type": "code",
      "execution_count": 6,
      "metadata": {
        "colab": {
          "base_uri": "https://localhost:8080/"
        },
        "id": "QSOY8B7qunh5",
        "outputId": "0ac1dfaf-df10-4626-da26-165a558bacd8"
      },
      "outputs": [
        {
          "output_type": "stream",
          "name": "stderr",
          "text": [
            "/usr/local/lib/python3.10/dist-packages/torchvision/models/_utils.py:208: UserWarning: The parameter 'pretrained' is deprecated since 0.13 and may be removed in the future, please use 'weights' instead.\n",
            "  warnings.warn(\n",
            "/usr/local/lib/python3.10/dist-packages/torchvision/models/_utils.py:223: UserWarning: Arguments other than a weight enum or `None` for 'weights' are deprecated since 0.13 and may be removed in the future. The current behavior is equivalent to passing `weights=SqueezeNet1_0_Weights.IMAGENET1K_V1`. You can also use `weights=SqueezeNet1_0_Weights.DEFAULT` to get the most up-to-date weights.\n",
            "  warnings.warn(msg)\n",
            "Downloading: \"https://download.pytorch.org/models/squeezenet1_0-b66bff10.pth\" to /root/.cache/torch/hub/checkpoints/squeezenet1_0-b66bff10.pth\n",
            "100%|██████████| 4.78M/4.78M [00:00<00:00, 27.2MB/s]\n"
          ]
        },
        {
          "output_type": "stream",
          "name": "stdout",
          "text": [
            "SqueezeNet(\n",
            "  (features): Sequential(\n",
            "    (0): Conv2d(3, 96, kernel_size=(7, 7), stride=(2, 2))\n",
            "    (1): ReLU(inplace=True)\n",
            "    (2): MaxPool2d(kernel_size=3, stride=2, padding=0, dilation=1, ceil_mode=True)\n",
            "    (3): Fire(\n",
            "      (squeeze): Conv2d(96, 16, kernel_size=(1, 1), stride=(1, 1))\n",
            "      (squeeze_activation): ReLU(inplace=True)\n",
            "      (expand1x1): Conv2d(16, 64, kernel_size=(1, 1), stride=(1, 1))\n",
            "      (expand1x1_activation): ReLU(inplace=True)\n",
            "      (expand3x3): Conv2d(16, 64, kernel_size=(3, 3), stride=(1, 1), padding=(1, 1))\n",
            "      (expand3x3_activation): ReLU(inplace=True)\n",
            "    )\n",
            "    (4): Fire(\n",
            "      (squeeze): Conv2d(128, 16, kernel_size=(1, 1), stride=(1, 1))\n",
            "      (squeeze_activation): ReLU(inplace=True)\n",
            "      (expand1x1): Conv2d(16, 64, kernel_size=(1, 1), stride=(1, 1))\n",
            "      (expand1x1_activation): ReLU(inplace=True)\n",
            "      (expand3x3): Conv2d(16, 64, kernel_size=(3, 3), stride=(1, 1), padding=(1, 1))\n",
            "      (expand3x3_activation): ReLU(inplace=True)\n",
            "    )\n",
            "    (5): Fire(\n",
            "      (squeeze): Conv2d(128, 32, kernel_size=(1, 1), stride=(1, 1))\n",
            "      (squeeze_activation): ReLU(inplace=True)\n",
            "      (expand1x1): Conv2d(32, 128, kernel_size=(1, 1), stride=(1, 1))\n",
            "      (expand1x1_activation): ReLU(inplace=True)\n",
            "      (expand3x3): Conv2d(32, 128, kernel_size=(3, 3), stride=(1, 1), padding=(1, 1))\n",
            "      (expand3x3_activation): ReLU(inplace=True)\n",
            "    )\n",
            "    (6): MaxPool2d(kernel_size=3, stride=2, padding=0, dilation=1, ceil_mode=True)\n",
            "    (7): Fire(\n",
            "      (squeeze): Conv2d(256, 32, kernel_size=(1, 1), stride=(1, 1))\n",
            "      (squeeze_activation): ReLU(inplace=True)\n",
            "      (expand1x1): Conv2d(32, 128, kernel_size=(1, 1), stride=(1, 1))\n",
            "      (expand1x1_activation): ReLU(inplace=True)\n",
            "      (expand3x3): Conv2d(32, 128, kernel_size=(3, 3), stride=(1, 1), padding=(1, 1))\n",
            "      (expand3x3_activation): ReLU(inplace=True)\n",
            "    )\n",
            "    (8): Fire(\n",
            "      (squeeze): Conv2d(256, 48, kernel_size=(1, 1), stride=(1, 1))\n",
            "      (squeeze_activation): ReLU(inplace=True)\n",
            "      (expand1x1): Conv2d(48, 192, kernel_size=(1, 1), stride=(1, 1))\n",
            "      (expand1x1_activation): ReLU(inplace=True)\n",
            "      (expand3x3): Conv2d(48, 192, kernel_size=(3, 3), stride=(1, 1), padding=(1, 1))\n",
            "      (expand3x3_activation): ReLU(inplace=True)\n",
            "    )\n",
            "    (9): Fire(\n",
            "      (squeeze): Conv2d(384, 48, kernel_size=(1, 1), stride=(1, 1))\n",
            "      (squeeze_activation): ReLU(inplace=True)\n",
            "      (expand1x1): Conv2d(48, 192, kernel_size=(1, 1), stride=(1, 1))\n",
            "      (expand1x1_activation): ReLU(inplace=True)\n",
            "      (expand3x3): Conv2d(48, 192, kernel_size=(3, 3), stride=(1, 1), padding=(1, 1))\n",
            "      (expand3x3_activation): ReLU(inplace=True)\n",
            "    )\n",
            "    (10): Fire(\n",
            "      (squeeze): Conv2d(384, 64, kernel_size=(1, 1), stride=(1, 1))\n",
            "      (squeeze_activation): ReLU(inplace=True)\n",
            "      (expand1x1): Conv2d(64, 256, kernel_size=(1, 1), stride=(1, 1))\n",
            "      (expand1x1_activation): ReLU(inplace=True)\n",
            "      (expand3x3): Conv2d(64, 256, kernel_size=(3, 3), stride=(1, 1), padding=(1, 1))\n",
            "      (expand3x3_activation): ReLU(inplace=True)\n",
            "    )\n",
            "    (11): MaxPool2d(kernel_size=3, stride=2, padding=0, dilation=1, ceil_mode=True)\n",
            "    (12): Fire(\n",
            "      (squeeze): Conv2d(512, 64, kernel_size=(1, 1), stride=(1, 1))\n",
            "      (squeeze_activation): ReLU(inplace=True)\n",
            "      (expand1x1): Conv2d(64, 256, kernel_size=(1, 1), stride=(1, 1))\n",
            "      (expand1x1_activation): ReLU(inplace=True)\n",
            "      (expand3x3): Conv2d(64, 256, kernel_size=(3, 3), stride=(1, 1), padding=(1, 1))\n",
            "      (expand3x3_activation): ReLU(inplace=True)\n",
            "    )\n",
            "  )\n",
            "  (classifier): Sequential(\n",
            "    (0): Dropout(p=0.5, inplace=False)\n",
            "    (1): Conv2d(512, 20, kernel_size=(1, 1), stride=(1, 1))\n",
            "    (2): ReLU(inplace=True)\n",
            "    (3): AdaptiveAvgPool2d(output_size=(1, 1))\n",
            "  )\n",
            ")\n"
          ]
        }
      ],
      "source": [
        "# Inizializza il modello\n",
        "def initialize_model(model_name, num_classes, feature_extract, use_pretrained):\n",
        "    model_ft = None\n",
        "    input_size = 0\n",
        "\n",
        "    if model_name == \"squeezenet\":\n",
        "        \"\"\" Squeezenet\"\"\"\n",
        "        model_ft = models.squeezenet1_0(pretrained=use_pretrained)              # utilizzerà dei pesi preaddestrati\n",
        "        set_parameter_requires_grad(model_ft, feature_extract)\n",
        "        model_ft.classifier[1] = nn.Conv2d(512, num_classes, kernel_size=(1,1), stride=(1,1))\n",
        "        model_ft.num_classes = num_classes\n",
        "        input_size = 224          # le immagini in ingresso devono essere 224 x 224 pixel\n",
        "\n",
        "    else:\n",
        "        print(\"Nome modello non valido...\")\n",
        "        exit()\n",
        "\n",
        "    return model_ft, input_size\n",
        "\n",
        "# Inizializza il modello\n",
        "model_ft, input_size = initialize_model(model_name, num_classes, feature_extract=True, use_pretrained=True)\n",
        "\n",
        "print(model_ft)"
      ]
    },
    {
      "cell_type": "code",
      "execution_count": 7,
      "metadata": {
        "id": "TYcfa_lfsfMD",
        "colab": {
          "base_uri": "https://localhost:8080/"
        },
        "outputId": "0f498d82-c212-4ff7-af9d-47ff4fd0195f"
      },
      "outputs": [
        {
          "output_type": "stream",
          "name": "stdout",
          "text": [
            "Inizializzazione dei Datasets e dei Dataloaders...\n"
          ]
        }
      ],
      "source": [
        "data_transforms = {\n",
        "    'train': transforms.Compose([\n",
        "        transforms.Resize(input_size),            # ridimensiona l'immagine alla grandezza di input richiesta dal modello\n",
        "        transforms.CenterCrop(input_size),        # effettua un ritaglio centrale dell'immagine\n",
        "        transforms.RandomHorizontalFlip(),        # effettua una riflessione orizzontale randomicamente\n",
        "        transforms.RandomRotation(degrees=45),     #effettua una rotazione casuale da -45 a +45\n",
        "        transforms.ToTensor(),                    # converte l'immagine in un Tensor\n",
        "        transforms.Normalize([0.485, 0.456, 0.406], [0.229, 0.224, 0.225])      # normalizza i valori dei pixel allo stesso modo delle immagini utilizzate nel pre-addestramento\n",
        "    ]),\n",
        "    'val': transforms.Compose([\n",
        "        transforms.Resize(input_size),\n",
        "        transforms.CenterCrop(input_size),\n",
        "        transforms.ToTensor(),\n",
        "        transforms.Normalize([0.485, 0.456, 0.406], [0.229, 0.224, 0.225])\n",
        "    ]),\n",
        "}\n",
        "\n",
        "print(\"Inizializzazione dei Datasets e dei Dataloaders...\")\n",
        "\n",
        "# crea due insiemi di dati: uno per l'addestramento e uno per la validazione\n",
        "image_datasets_1 = {x: datasets.ImageFolder(os.path.join(data_dir_1, x), data_transforms[x]) for x in ['train', 'val']}\n",
        "image_datasets_2 = {x: datasets.ImageFolder(os.path.join(data_dir_2, x), data_transforms[x]) for x in ['train', 'val']}\n",
        "image_datasets_3 = {x: datasets.ImageFolder(os.path.join(data_dir_3, x), data_transforms[x]) for x in ['train', 'val']}\n",
        "image_datasets_4 = {x: datasets.ImageFolder(os.path.join(data_dir_4, x), data_transforms[x]) for x in ['train', 'val']}\n",
        "image_datasets_5 = {x: datasets.ImageFolder(os.path.join(data_dir_5, x), data_transforms[x]) for x in ['train', 'val']}\n",
        "image_datasets_6 = {x: datasets.ImageFolder(os.path.join(data_dir_6, x), data_transforms[x]) for x in ['train', 'val']}\n",
        "\n",
        "# crea due dataloader: uno per l'addestramento e uno per la validazione\n",
        "dataloaders_dict_1 = {x: torch.utils.data.DataLoader(image_datasets_1[x], batch_size=batch_size, shuffle=True, num_workers=2) for x in ['train', 'val']}\n",
        "dataloaders_dict_2 = {x: torch.utils.data.DataLoader(image_datasets_2[x], batch_size=batch_size, shuffle=True, num_workers=2) for x in ['train', 'val']}\n",
        "dataloaders_dict_3 = {x: torch.utils.data.DataLoader(image_datasets_3[x], batch_size=batch_size, shuffle=True, num_workers=2) for x in ['train', 'val']}\n",
        "dataloaders_dict_4 = {x: torch.utils.data.DataLoader(image_datasets_4[x], batch_size=batch_size, shuffle=True, num_workers=2) for x in ['train', 'val']}\n",
        "dataloaders_dict_5 = {x: torch.utils.data.DataLoader(image_datasets_5[x], batch_size=batch_size, shuffle=True, num_workers=2) for x in ['train', 'val']}\n",
        "dataloaders_dict_6 = {x: torch.utils.data.DataLoader(image_datasets_6[x], batch_size=batch_size, shuffle=True, num_workers=2) for x in ['train', 'val']}"
      ]
    },
    {
      "cell_type": "code",
      "execution_count": 8,
      "metadata": {
        "colab": {
          "base_uri": "https://localhost:8080/"
        },
        "id": "KmDBcLLwtnhS",
        "outputId": "8d04cb1a-db42-4348-dd57-a156dea84fcd"
      },
      "outputs": [
        {
          "output_type": "stream",
          "name": "stdout",
          "text": [
            "\t classifier.1.weight\n",
            "\t classifier.1.bias\n"
          ]
        }
      ],
      "source": [
        "model_ft_1 = model_ft.to(device)           # copia il modello e lo invia alla GPU per l'addestramento\n",
        "model_ft_2 = model_ft.to(device)\n",
        "model_ft_3 = model_ft.to(device)\n",
        "model_ft_4 = model_ft.to(device)\n",
        "model_ft_5 = model_ft.to(device)\n",
        "model_ft_6 = model_ft.to(device)\n",
        "\n",
        "# Optimizer per il modello di rete che addestra solo i pesi dell'ultimo layer\n",
        "params_to_update = []                 # memorizzare i parametri del modello che devono essere aggiornati\n",
        "for name,param in model_ft.named_parameters():\n",
        "    if param.requires_grad == True:\n",
        "        params_to_update.append(param)\n",
        "        print(\"\\t\",name)\n",
        "\n",
        "optimizer_ft = optim.Adam(params_to_update, lr=0.0005)           #lr è il tasso di apprendimento, l'ampiezza degli aggiornamenti dei pesi\n",
        "\n",
        "criterion = nn.CrossEntropyLoss()         # scelta della loss function da utilizzare"
      ]
    },
    {
      "cell_type": "markdown",
      "source": [
        "# **CALCOLO ACCURACY E LOSS DEI 6 MODELLI**"
      ],
      "metadata": {
        "id": "T1VQSoD9RTP3"
      }
    },
    {
      "cell_type": "code",
      "execution_count": 10,
      "metadata": {
        "id": "OvJPoUpSwVHK",
        "colab": {
          "base_uri": "https://localhost:8080/",
          "height": 364
        },
        "outputId": "50ac4975-0986-4d23-d0cb-616eb5778334"
      },
      "outputs": [
        {
          "output_type": "stream",
          "name": "stdout",
          "text": [
            "Epoca 0/14\n",
            "----------\n"
          ]
        },
        {
          "output_type": "error",
          "ename": "KeyboardInterrupt",
          "evalue": "ignored",
          "traceback": [
            "\u001b[0;31m---------------------------------------------------------------------------\u001b[0m",
            "\u001b[0;31mKeyboardInterrupt\u001b[0m                         Traceback (most recent call last)",
            "\u001b[0;32m<ipython-input-10-391c1d030ed6>\u001b[0m in \u001b[0;36m<cell line: 2>\u001b[0;34m()\u001b[0m\n\u001b[1;32m      1\u001b[0m \u001b[0;31m# Skybox di immagini\u001b[0m\u001b[0;34m\u001b[0m\u001b[0;34m\u001b[0m\u001b[0m\n\u001b[0;32m----> 2\u001b[0;31m \u001b[0mmodel_ft_1\u001b[0m\u001b[0;34m,\u001b[0m \u001b[0mhist_ft_1\u001b[0m\u001b[0;34m,\u001b[0m \u001b[0mhist_ftloss_1\u001b[0m\u001b[0;34m,\u001b[0m \u001b[0mhist_ft_train_1\u001b[0m\u001b[0;34m,\u001b[0m \u001b[0mhist_ftloss_train_1\u001b[0m \u001b[0;34m=\u001b[0m \u001b[0mtrain_model\u001b[0m\u001b[0;34m(\u001b[0m\u001b[0mmodel_ft_1\u001b[0m\u001b[0;34m,\u001b[0m \u001b[0mdataloaders_dict_1\u001b[0m\u001b[0;34m,\u001b[0m \u001b[0mcriterion\u001b[0m\u001b[0;34m,\u001b[0m \u001b[0moptimizer_ft\u001b[0m\u001b[0;34m,\u001b[0m \u001b[0mmodel_name\u001b[0m\u001b[0;34m=\u001b[0m\u001b[0mmodel_name\u001b[0m\u001b[0;34m,\u001b[0m \u001b[0mnum_epochs\u001b[0m\u001b[0;34m=\u001b[0m\u001b[0mnum_epochs\u001b[0m\u001b[0;34m)\u001b[0m\u001b[0;34m\u001b[0m\u001b[0;34m\u001b[0m\u001b[0m\n\u001b[0m",
            "\u001b[0;32m<ipython-input-4-2ca7ebf32023>\u001b[0m in \u001b[0;36mtrain_model\u001b[0;34m(model, dataloaders, criterion, optimizer, model_name, num_epochs)\u001b[0m\n\u001b[1;32m     29\u001b[0m             \u001b[0mrunning_corrects\u001b[0m \u001b[0;34m=\u001b[0m \u001b[0;36m0\u001b[0m\u001b[0;34m\u001b[0m\u001b[0;34m\u001b[0m\u001b[0m\n\u001b[1;32m     30\u001b[0m \u001b[0;34m\u001b[0m\u001b[0m\n\u001b[0;32m---> 31\u001b[0;31m             \u001b[0;32mfor\u001b[0m \u001b[0minputs\u001b[0m\u001b[0;34m,\u001b[0m \u001b[0mlabels\u001b[0m \u001b[0;32min\u001b[0m \u001b[0mdataloaders\u001b[0m\u001b[0;34m[\u001b[0m\u001b[0mphase\u001b[0m\u001b[0;34m]\u001b[0m\u001b[0;34m:\u001b[0m         \u001b[0;31m# ciclo for eseguito per ogni batch di train e val\u001b[0m\u001b[0;34m\u001b[0m\u001b[0;34m\u001b[0m\u001b[0m\n\u001b[0m\u001b[1;32m     32\u001b[0m                 \u001b[0minputs\u001b[0m \u001b[0;34m=\u001b[0m \u001b[0minputs\u001b[0m\u001b[0;34m.\u001b[0m\u001b[0mto\u001b[0m\u001b[0;34m(\u001b[0m\u001b[0mdevice\u001b[0m\u001b[0;34m)\u001b[0m\u001b[0;34m\u001b[0m\u001b[0;34m\u001b[0m\u001b[0m\n\u001b[1;32m     33\u001b[0m                 \u001b[0mlabels\u001b[0m \u001b[0;34m=\u001b[0m \u001b[0mlabels\u001b[0m\u001b[0;34m.\u001b[0m\u001b[0mto\u001b[0m\u001b[0;34m(\u001b[0m\u001b[0mdevice\u001b[0m\u001b[0;34m)\u001b[0m\u001b[0;34m\u001b[0m\u001b[0;34m\u001b[0m\u001b[0m\n",
            "\u001b[0;32m/usr/local/lib/python3.10/dist-packages/torch/utils/data/dataloader.py\u001b[0m in \u001b[0;36m__next__\u001b[0;34m(self)\u001b[0m\n\u001b[1;32m    631\u001b[0m                 \u001b[0;31m# TODO(https://github.com/pytorch/pytorch/issues/76750)\u001b[0m\u001b[0;34m\u001b[0m\u001b[0;34m\u001b[0m\u001b[0m\n\u001b[1;32m    632\u001b[0m                 \u001b[0mself\u001b[0m\u001b[0;34m.\u001b[0m\u001b[0m_reset\u001b[0m\u001b[0;34m(\u001b[0m\u001b[0;34m)\u001b[0m  \u001b[0;31m# type: ignore[call-arg]\u001b[0m\u001b[0;34m\u001b[0m\u001b[0;34m\u001b[0m\u001b[0m\n\u001b[0;32m--> 633\u001b[0;31m             \u001b[0mdata\u001b[0m \u001b[0;34m=\u001b[0m \u001b[0mself\u001b[0m\u001b[0;34m.\u001b[0m\u001b[0m_next_data\u001b[0m\u001b[0;34m(\u001b[0m\u001b[0;34m)\u001b[0m\u001b[0;34m\u001b[0m\u001b[0;34m\u001b[0m\u001b[0m\n\u001b[0m\u001b[1;32m    634\u001b[0m             \u001b[0mself\u001b[0m\u001b[0;34m.\u001b[0m\u001b[0m_num_yielded\u001b[0m \u001b[0;34m+=\u001b[0m \u001b[0;36m1\u001b[0m\u001b[0;34m\u001b[0m\u001b[0;34m\u001b[0m\u001b[0m\n\u001b[1;32m    635\u001b[0m             \u001b[0;32mif\u001b[0m \u001b[0mself\u001b[0m\u001b[0;34m.\u001b[0m\u001b[0m_dataset_kind\u001b[0m \u001b[0;34m==\u001b[0m \u001b[0m_DatasetKind\u001b[0m\u001b[0;34m.\u001b[0m\u001b[0mIterable\u001b[0m \u001b[0;32mand\u001b[0m\u001b[0;31m \u001b[0m\u001b[0;31m\\\u001b[0m\u001b[0;34m\u001b[0m\u001b[0;34m\u001b[0m\u001b[0m\n",
            "\u001b[0;32m/usr/local/lib/python3.10/dist-packages/torch/utils/data/dataloader.py\u001b[0m in \u001b[0;36m_next_data\u001b[0;34m(self)\u001b[0m\n\u001b[1;32m   1326\u001b[0m \u001b[0;34m\u001b[0m\u001b[0m\n\u001b[1;32m   1327\u001b[0m             \u001b[0;32massert\u001b[0m \u001b[0;32mnot\u001b[0m \u001b[0mself\u001b[0m\u001b[0;34m.\u001b[0m\u001b[0m_shutdown\u001b[0m \u001b[0;32mand\u001b[0m \u001b[0mself\u001b[0m\u001b[0;34m.\u001b[0m\u001b[0m_tasks_outstanding\u001b[0m \u001b[0;34m>\u001b[0m \u001b[0;36m0\u001b[0m\u001b[0;34m\u001b[0m\u001b[0;34m\u001b[0m\u001b[0m\n\u001b[0;32m-> 1328\u001b[0;31m             \u001b[0midx\u001b[0m\u001b[0;34m,\u001b[0m \u001b[0mdata\u001b[0m \u001b[0;34m=\u001b[0m \u001b[0mself\u001b[0m\u001b[0;34m.\u001b[0m\u001b[0m_get_data\u001b[0m\u001b[0;34m(\u001b[0m\u001b[0;34m)\u001b[0m\u001b[0;34m\u001b[0m\u001b[0;34m\u001b[0m\u001b[0m\n\u001b[0m\u001b[1;32m   1329\u001b[0m             \u001b[0mself\u001b[0m\u001b[0;34m.\u001b[0m\u001b[0m_tasks_outstanding\u001b[0m \u001b[0;34m-=\u001b[0m \u001b[0;36m1\u001b[0m\u001b[0;34m\u001b[0m\u001b[0;34m\u001b[0m\u001b[0m\n\u001b[1;32m   1330\u001b[0m             \u001b[0;32mif\u001b[0m \u001b[0mself\u001b[0m\u001b[0;34m.\u001b[0m\u001b[0m_dataset_kind\u001b[0m \u001b[0;34m==\u001b[0m \u001b[0m_DatasetKind\u001b[0m\u001b[0;34m.\u001b[0m\u001b[0mIterable\u001b[0m\u001b[0;34m:\u001b[0m\u001b[0;34m\u001b[0m\u001b[0;34m\u001b[0m\u001b[0m\n",
            "\u001b[0;32m/usr/local/lib/python3.10/dist-packages/torch/utils/data/dataloader.py\u001b[0m in \u001b[0;36m_get_data\u001b[0;34m(self)\u001b[0m\n\u001b[1;32m   1292\u001b[0m         \u001b[0;32melse\u001b[0m\u001b[0;34m:\u001b[0m\u001b[0;34m\u001b[0m\u001b[0;34m\u001b[0m\u001b[0m\n\u001b[1;32m   1293\u001b[0m             \u001b[0;32mwhile\u001b[0m \u001b[0;32mTrue\u001b[0m\u001b[0;34m:\u001b[0m\u001b[0;34m\u001b[0m\u001b[0;34m\u001b[0m\u001b[0m\n\u001b[0;32m-> 1294\u001b[0;31m                 \u001b[0msuccess\u001b[0m\u001b[0;34m,\u001b[0m \u001b[0mdata\u001b[0m \u001b[0;34m=\u001b[0m \u001b[0mself\u001b[0m\u001b[0;34m.\u001b[0m\u001b[0m_try_get_data\u001b[0m\u001b[0;34m(\u001b[0m\u001b[0;34m)\u001b[0m\u001b[0;34m\u001b[0m\u001b[0;34m\u001b[0m\u001b[0m\n\u001b[0m\u001b[1;32m   1295\u001b[0m                 \u001b[0;32mif\u001b[0m \u001b[0msuccess\u001b[0m\u001b[0;34m:\u001b[0m\u001b[0;34m\u001b[0m\u001b[0;34m\u001b[0m\u001b[0m\n\u001b[1;32m   1296\u001b[0m                     \u001b[0;32mreturn\u001b[0m \u001b[0mdata\u001b[0m\u001b[0;34m\u001b[0m\u001b[0;34m\u001b[0m\u001b[0m\n",
            "\u001b[0;32m/usr/local/lib/python3.10/dist-packages/torch/utils/data/dataloader.py\u001b[0m in \u001b[0;36m_try_get_data\u001b[0;34m(self, timeout)\u001b[0m\n\u001b[1;32m   1130\u001b[0m         \u001b[0;31m#   (bool: whether successfully get data, any: data if successful else None)\u001b[0m\u001b[0;34m\u001b[0m\u001b[0;34m\u001b[0m\u001b[0m\n\u001b[1;32m   1131\u001b[0m         \u001b[0;32mtry\u001b[0m\u001b[0;34m:\u001b[0m\u001b[0;34m\u001b[0m\u001b[0;34m\u001b[0m\u001b[0m\n\u001b[0;32m-> 1132\u001b[0;31m             \u001b[0mdata\u001b[0m \u001b[0;34m=\u001b[0m \u001b[0mself\u001b[0m\u001b[0;34m.\u001b[0m\u001b[0m_data_queue\u001b[0m\u001b[0;34m.\u001b[0m\u001b[0mget\u001b[0m\u001b[0;34m(\u001b[0m\u001b[0mtimeout\u001b[0m\u001b[0;34m=\u001b[0m\u001b[0mtimeout\u001b[0m\u001b[0;34m)\u001b[0m\u001b[0;34m\u001b[0m\u001b[0;34m\u001b[0m\u001b[0m\n\u001b[0m\u001b[1;32m   1133\u001b[0m             \u001b[0;32mreturn\u001b[0m \u001b[0;34m(\u001b[0m\u001b[0;32mTrue\u001b[0m\u001b[0;34m,\u001b[0m \u001b[0mdata\u001b[0m\u001b[0;34m)\u001b[0m\u001b[0;34m\u001b[0m\u001b[0;34m\u001b[0m\u001b[0m\n\u001b[1;32m   1134\u001b[0m         \u001b[0;32mexcept\u001b[0m \u001b[0mException\u001b[0m \u001b[0;32mas\u001b[0m \u001b[0me\u001b[0m\u001b[0;34m:\u001b[0m\u001b[0;34m\u001b[0m\u001b[0;34m\u001b[0m\u001b[0m\n",
            "\u001b[0;32m/usr/lib/python3.10/multiprocessing/queues.py\u001b[0m in \u001b[0;36mget\u001b[0;34m(self, block, timeout)\u001b[0m\n\u001b[1;32m    111\u001b[0m                 \u001b[0;32mif\u001b[0m \u001b[0mblock\u001b[0m\u001b[0;34m:\u001b[0m\u001b[0;34m\u001b[0m\u001b[0;34m\u001b[0m\u001b[0m\n\u001b[1;32m    112\u001b[0m                     \u001b[0mtimeout\u001b[0m \u001b[0;34m=\u001b[0m \u001b[0mdeadline\u001b[0m \u001b[0;34m-\u001b[0m \u001b[0mtime\u001b[0m\u001b[0;34m.\u001b[0m\u001b[0mmonotonic\u001b[0m\u001b[0;34m(\u001b[0m\u001b[0;34m)\u001b[0m\u001b[0;34m\u001b[0m\u001b[0;34m\u001b[0m\u001b[0m\n\u001b[0;32m--> 113\u001b[0;31m                     \u001b[0;32mif\u001b[0m \u001b[0;32mnot\u001b[0m \u001b[0mself\u001b[0m\u001b[0;34m.\u001b[0m\u001b[0m_poll\u001b[0m\u001b[0;34m(\u001b[0m\u001b[0mtimeout\u001b[0m\u001b[0;34m)\u001b[0m\u001b[0;34m:\u001b[0m\u001b[0;34m\u001b[0m\u001b[0;34m\u001b[0m\u001b[0m\n\u001b[0m\u001b[1;32m    114\u001b[0m                         \u001b[0;32mraise\u001b[0m \u001b[0mEmpty\u001b[0m\u001b[0;34m\u001b[0m\u001b[0;34m\u001b[0m\u001b[0m\n\u001b[1;32m    115\u001b[0m                 \u001b[0;32melif\u001b[0m \u001b[0;32mnot\u001b[0m \u001b[0mself\u001b[0m\u001b[0;34m.\u001b[0m\u001b[0m_poll\u001b[0m\u001b[0;34m(\u001b[0m\u001b[0;34m)\u001b[0m\u001b[0;34m:\u001b[0m\u001b[0;34m\u001b[0m\u001b[0;34m\u001b[0m\u001b[0m\n",
            "\u001b[0;32m/usr/lib/python3.10/multiprocessing/connection.py\u001b[0m in \u001b[0;36mpoll\u001b[0;34m(self, timeout)\u001b[0m\n\u001b[1;32m    255\u001b[0m         \u001b[0mself\u001b[0m\u001b[0;34m.\u001b[0m\u001b[0m_check_closed\u001b[0m\u001b[0;34m(\u001b[0m\u001b[0;34m)\u001b[0m\u001b[0;34m\u001b[0m\u001b[0;34m\u001b[0m\u001b[0m\n\u001b[1;32m    256\u001b[0m         \u001b[0mself\u001b[0m\u001b[0;34m.\u001b[0m\u001b[0m_check_readable\u001b[0m\u001b[0;34m(\u001b[0m\u001b[0;34m)\u001b[0m\u001b[0;34m\u001b[0m\u001b[0;34m\u001b[0m\u001b[0m\n\u001b[0;32m--> 257\u001b[0;31m         \u001b[0;32mreturn\u001b[0m \u001b[0mself\u001b[0m\u001b[0;34m.\u001b[0m\u001b[0m_poll\u001b[0m\u001b[0;34m(\u001b[0m\u001b[0mtimeout\u001b[0m\u001b[0;34m)\u001b[0m\u001b[0;34m\u001b[0m\u001b[0;34m\u001b[0m\u001b[0m\n\u001b[0m\u001b[1;32m    258\u001b[0m \u001b[0;34m\u001b[0m\u001b[0m\n\u001b[1;32m    259\u001b[0m     \u001b[0;32mdef\u001b[0m \u001b[0m__enter__\u001b[0m\u001b[0;34m(\u001b[0m\u001b[0mself\u001b[0m\u001b[0;34m)\u001b[0m\u001b[0;34m:\u001b[0m\u001b[0;34m\u001b[0m\u001b[0;34m\u001b[0m\u001b[0m\n",
            "\u001b[0;32m/usr/lib/python3.10/multiprocessing/connection.py\u001b[0m in \u001b[0;36m_poll\u001b[0;34m(self, timeout)\u001b[0m\n\u001b[1;32m    422\u001b[0m \u001b[0;34m\u001b[0m\u001b[0m\n\u001b[1;32m    423\u001b[0m     \u001b[0;32mdef\u001b[0m \u001b[0m_poll\u001b[0m\u001b[0;34m(\u001b[0m\u001b[0mself\u001b[0m\u001b[0;34m,\u001b[0m \u001b[0mtimeout\u001b[0m\u001b[0;34m)\u001b[0m\u001b[0;34m:\u001b[0m\u001b[0;34m\u001b[0m\u001b[0;34m\u001b[0m\u001b[0m\n\u001b[0;32m--> 424\u001b[0;31m         \u001b[0mr\u001b[0m \u001b[0;34m=\u001b[0m \u001b[0mwait\u001b[0m\u001b[0;34m(\u001b[0m\u001b[0;34m[\u001b[0m\u001b[0mself\u001b[0m\u001b[0;34m]\u001b[0m\u001b[0;34m,\u001b[0m \u001b[0mtimeout\u001b[0m\u001b[0;34m)\u001b[0m\u001b[0;34m\u001b[0m\u001b[0;34m\u001b[0m\u001b[0m\n\u001b[0m\u001b[1;32m    425\u001b[0m         \u001b[0;32mreturn\u001b[0m \u001b[0mbool\u001b[0m\u001b[0;34m(\u001b[0m\u001b[0mr\u001b[0m\u001b[0;34m)\u001b[0m\u001b[0;34m\u001b[0m\u001b[0;34m\u001b[0m\u001b[0m\n\u001b[1;32m    426\u001b[0m \u001b[0;34m\u001b[0m\u001b[0m\n",
            "\u001b[0;32m/usr/lib/python3.10/multiprocessing/connection.py\u001b[0m in \u001b[0;36mwait\u001b[0;34m(object_list, timeout)\u001b[0m\n\u001b[1;32m    929\u001b[0m \u001b[0;34m\u001b[0m\u001b[0m\n\u001b[1;32m    930\u001b[0m             \u001b[0;32mwhile\u001b[0m \u001b[0;32mTrue\u001b[0m\u001b[0;34m:\u001b[0m\u001b[0;34m\u001b[0m\u001b[0;34m\u001b[0m\u001b[0m\n\u001b[0;32m--> 931\u001b[0;31m                 \u001b[0mready\u001b[0m \u001b[0;34m=\u001b[0m \u001b[0mselector\u001b[0m\u001b[0;34m.\u001b[0m\u001b[0mselect\u001b[0m\u001b[0;34m(\u001b[0m\u001b[0mtimeout\u001b[0m\u001b[0;34m)\u001b[0m\u001b[0;34m\u001b[0m\u001b[0;34m\u001b[0m\u001b[0m\n\u001b[0m\u001b[1;32m    932\u001b[0m                 \u001b[0;32mif\u001b[0m \u001b[0mready\u001b[0m\u001b[0;34m:\u001b[0m\u001b[0;34m\u001b[0m\u001b[0;34m\u001b[0m\u001b[0m\n\u001b[1;32m    933\u001b[0m                     \u001b[0;32mreturn\u001b[0m \u001b[0;34m[\u001b[0m\u001b[0mkey\u001b[0m\u001b[0;34m.\u001b[0m\u001b[0mfileobj\u001b[0m \u001b[0;32mfor\u001b[0m \u001b[0;34m(\u001b[0m\u001b[0mkey\u001b[0m\u001b[0;34m,\u001b[0m \u001b[0mevents\u001b[0m\u001b[0;34m)\u001b[0m \u001b[0;32min\u001b[0m \u001b[0mready\u001b[0m\u001b[0;34m]\u001b[0m\u001b[0;34m\u001b[0m\u001b[0;34m\u001b[0m\u001b[0m\n",
            "\u001b[0;32m/usr/lib/python3.10/selectors.py\u001b[0m in \u001b[0;36mselect\u001b[0;34m(self, timeout)\u001b[0m\n\u001b[1;32m    414\u001b[0m         \u001b[0mready\u001b[0m \u001b[0;34m=\u001b[0m \u001b[0;34m[\u001b[0m\u001b[0;34m]\u001b[0m\u001b[0;34m\u001b[0m\u001b[0;34m\u001b[0m\u001b[0m\n\u001b[1;32m    415\u001b[0m         \u001b[0;32mtry\u001b[0m\u001b[0;34m:\u001b[0m\u001b[0;34m\u001b[0m\u001b[0;34m\u001b[0m\u001b[0m\n\u001b[0;32m--> 416\u001b[0;31m             \u001b[0mfd_event_list\u001b[0m \u001b[0;34m=\u001b[0m \u001b[0mself\u001b[0m\u001b[0;34m.\u001b[0m\u001b[0m_selector\u001b[0m\u001b[0;34m.\u001b[0m\u001b[0mpoll\u001b[0m\u001b[0;34m(\u001b[0m\u001b[0mtimeout\u001b[0m\u001b[0;34m)\u001b[0m\u001b[0;34m\u001b[0m\u001b[0;34m\u001b[0m\u001b[0m\n\u001b[0m\u001b[1;32m    417\u001b[0m         \u001b[0;32mexcept\u001b[0m \u001b[0mInterruptedError\u001b[0m\u001b[0;34m:\u001b[0m\u001b[0;34m\u001b[0m\u001b[0;34m\u001b[0m\u001b[0m\n\u001b[1;32m    418\u001b[0m             \u001b[0;32mreturn\u001b[0m \u001b[0mready\u001b[0m\u001b[0;34m\u001b[0m\u001b[0;34m\u001b[0m\u001b[0m\n",
            "\u001b[0;31mKeyboardInterrupt\u001b[0m: "
          ]
        }
      ],
      "source": [
        "# Skybox di immagini\n",
        "model_ft_1, hist_ft_1, hist_ftloss_1, hist_ft_train_1, hist_ftloss_train_1 = train_model(model_ft_1, dataloaders_dict_1, criterion, optimizer_ft, model_name=model_name, num_epochs=num_epochs)"
      ]
    },
    {
      "cell_type": "code",
      "source": [
        "# Skybox monocolore\n",
        "model_ft_2, hist_ft_2, hist_ftloss_2, hist_ft_train_2, hist_ftloss_train_2 = train_model(model_ft_2, dataloaders_dict_2, criterion, optimizer_ft, model_name=model_name, num_epochs=num_epochs)"
      ],
      "metadata": {
        "id": "3ZtU5JNVwAUA"
      },
      "execution_count": null,
      "outputs": []
    },
    {
      "cell_type": "code",
      "source": [
        "# Skybox di immagini / colore dell'oggetto\n",
        "model_ft_3, hist_ft_3, hist_ftloss_3, hist_ft_train_3, hist_ftloss_train_3 = train_model(model_ft_3, dataloaders_dict_3, criterion, optimizer_ft, model_name=model_name, num_epochs=num_epochs)"
      ],
      "metadata": {
        "id": "m_LkbQpTwAWf"
      },
      "execution_count": null,
      "outputs": []
    },
    {
      "cell_type": "code",
      "source": [
        "# Skybox di immagini / texture dell'oggetto\n",
        "model_ft_4, hist_ft_4, hist_ftloss_4, hist_ft_train_4, hist_ftloss_train_4 = train_model(model_ft_4, dataloaders_dict_4, criterion, optimizer_ft, model_name=model_name, num_epochs=num_epochs)"
      ],
      "metadata": {
        "id": "866cONckwAZA"
      },
      "execution_count": null,
      "outputs": []
    },
    {
      "cell_type": "code",
      "source": [
        "# Skybox di immagini / intensità, direzzione e colore delle luci\n",
        "model_ft_5, hist_ft_5, hist_ftloss_5, hist_ft_train_5, hist_ftloss_train_5 = train_model(model_ft_5, dataloaders_dict_5, criterion, optimizer_ft, model_name=model_name, num_epochs=num_epochs)"
      ],
      "metadata": {
        "id": "eHCUkw-4wAbv"
      },
      "execution_count": null,
      "outputs": []
    },
    {
      "cell_type": "code",
      "source": [
        "# Skybox di immagini / texture dell'oggetto / intensità, direzzione e colore delle luci\n",
        "model_ft_6, hist_ft_6, hist_ftloss_6, hist_ft_train_6, hist_ftloss_train_6 = train_model(model_ft_6, dataloaders_dict_6, criterion, optimizer_ft, model_name=model_name, num_epochs=num_epochs)"
      ],
      "metadata": {
        "id": "xF0ZRJM2wAeP"
      },
      "execution_count": null,
      "outputs": []
    },
    {
      "cell_type": "markdown",
      "source": [
        "# **GRAFICI ACCURACY E LOSS FUNCTION**"
      ],
      "metadata": {
        "id": "SB9xt6YHQUbM"
      }
    },
    {
      "cell_type": "code",
      "execution_count": null,
      "metadata": {
        "colab": {
          "base_uri": "https://localhost:8080/",
          "height": 472
        },
        "id": "wfZR2R1iyDU6",
        "outputId": "7c727d54-4b9b-4402-caf0-9ca0d63b0a40"
      },
      "outputs": [
        {
          "output_type": "display_data",
          "data": {
            "text/plain": [
              "<Figure size 640x480 with 1 Axes>"
            ],
            "image/png": "[encoded data removed]"
          },
          "metadata": {}
        }
      ],
      "source": [
        "# Grafico che rappresenta l'andamento della validation / training accuracy all'aumentare del numero delle epoche\n",
        "ohist_ft_1 = []\n",
        "ohist_ft_2 = []\n",
        "ohist_ft_3 = []\n",
        "ohist_ft_4 = []\n",
        "ohist_ft_5 = []\n",
        "ohist_ft_6 = []\n",
        "ohist_ft_1 = [h.cpu().numpy() for h in hist_ft_1]\n",
        "ohist_ft_2 = [h.cpu().numpy() for h in hist_ft_2]\n",
        "ohist_ft_3 = [h.cpu().numpy() for h in hist_ft_3]\n",
        "ohist_ft_4 = [h.cpu().numpy() for h in hist_ft_4]\n",
        "ohist_ft_5 = [h.cpu().numpy() for h in hist_ft_5]\n",
        "ohist_ft_6 = [h.cpu().numpy() for h in hist_ft_6]\n",
        "\n",
        "ohist_ft_train_1 = []\n",
        "ohist_ft_train_2 = []\n",
        "ohist_ft_train_1 = []\n",
        "ohist_ft_train_2 = []\n",
        "ohist_ft_train_1 = []\n",
        "ohist_ft_train_2 = []\n",
        "ohist_ft_train_1 = [h.cpu().numpy() for h in hist_ft_train_1]\n",
        "ohist_ft_train_2 = [h.cpu().numpy() for h in hist_ft_train_2]\n",
        "ohist_ft_train_3 = [h.cpu().numpy() for h in hist_ft_train_3]\n",
        "ohist_ft_train_4 = [h.cpu().numpy() for h in hist_ft_train_4]\n",
        "ohist_ft_train_5 = [h.cpu().numpy() for h in hist_ft_train_5]\n",
        "ohist_ft_train_6 = [h.cpu().numpy() for h in hist_ft_train_6]\n",
        "\n",
        "\n",
        "fig, axs = plt.subplots(1, 2, figsize=(12, 6))                 # 1 riga, 2 colonne\n",
        "step = num_epochs/10\n",
        "\n",
        "# Grafico per la fase di val\n",
        "axs[0].set_title(\"Validation Accuracy vs. Numero di epoche di addestramento\")\n",
        "axs[0].set_xlabel(\"Epoca di addestramento\")\n",
        "axs[0].set_ylabel(\"Validation Accuracy\")\n",
        "\n",
        "axs[0].plot(range(1, num_epochs+1), ohist_ft_1, label=\"Skybox\")\n",
        "axs[0].plot(range(1, num_epochs+1), ohist_ft_1, label=\"Skybox\")\n",
        "axs[0].plot(range(1, num_epochs+1), ohist_ft_2, label=\"Skybox_colore\")\n",
        "axs[0].plot(range(1, num_epochs+1), ohist_ft_3, label=\"Skybox-Colore_oggetto\")\n",
        "axs[0].plot(range(1, num_epochs+1), ohist_ft_4, label=\"Skybox-Material_oggetto\")\n",
        "axs[0].plot(range(1, num_epochs+1), ohist_ft_5, label=\"Skybox-Luci\")\n",
        "axs[0].plot(range(1, num_epochs+1), ohist_ft_6, label=\"Skybox-Luci-Material_oggetto\")\n",
        "\n",
        "axs[0].set_ylim((0,1.))\n",
        "axs[0].set_xticks(np.arange(1, num_epochs+1, step))\n",
        "axs[0].legend()\n",
        "axs[0].grid()\n",
        "\n",
        "\n",
        "# Grafico per la fase di train\n",
        "axs[1].set_title(\"Training Accuracy vs. Numero di epoche di addestramento\")\n",
        "axs[1].set_xlabel(\"Epoca di addestramento\")\n",
        "axs[1].set_ylabel(\"Trainig Accuracy\")\n",
        "\n",
        "axs[1].plot(range(1,num_epochs+1), ohist_ft_train_1, label=\"Skybox\")\n",
        "axs[1].plot(range(1,num_epochs+1), ohist_ft_train_2, label=\"Skybox_colore\")\n",
        "axs[1].plot(range(1,num_epochs+1), ohist_ft_train_3, label=\"Skybox-Colore_oggetto\")\n",
        "axs[1].plot(range(1,num_epochs+1), ohist_ft_train_4, label=\"Skybox-Material_oggetto\")\n",
        "axs[1].plot(range(1,num_epochs+1), ohist_ft_train_5, label=\"Skybox-Luci\")\n",
        "axs[1].plot(range(1,num_epochs+1), ohist_ft_train_6, label=\"Skybox-Luci-Material_oggetto\")\n",
        "\n",
        "axs[1].set_ylim((0,1.))\n",
        "axs[1].set_xticks(np.arange(1, num_epochs+1, step))\n",
        "axs[1].legend()\n",
        "axs[1].grid()\n",
        "\n",
        "\n",
        "plt.show()            # per mostrare a schermo entrambi i grafici"
      ]
    },
    {
      "cell_type": "code",
      "execution_count": null,
      "metadata": {
        "colab": {
          "base_uri": "https://localhost:8080/",
          "height": 472
        },
        "id": "V6l1NEs7jJhp",
        "outputId": "892e117a-0492-4a56-be75-a2614b7021e4"
      },
      "outputs": [
        {
          "output_type": "display_data",
          "data": {
            "text/plain": [
              "<Figure size 640x480 with 1 Axes>"
            ],
            "image/png": "[encoded data removed]"
          },
          "metadata": {}
        }
      ],
      "source": [
        "# Grafico che rappresenta l'andamento della loss nel val e nel train all'aumentare del numero delle epoche\n",
        "hist_loss_range_1 = np.arange((num_epochs)/len(hist_ftloss_1),num_epochs+((num_epochs)/len(hist_ftloss_1)),(num_epochs)/len(hist_ftloss_1))\n",
        "hist_loss_range_2 = np.arange((num_epochs)/len(hist_ftloss_2),num_epochs+((num_epochs)/len(hist_ftloss_2)),(num_epochs)/len(hist_ftloss_2))\n",
        "hist_loss_range_3 = np.arange((num_epochs)/len(hist_ftloss_3),num_epochs+((num_epochs)/len(hist_ftloss_3)),(num_epochs)/len(hist_ftloss_3))\n",
        "hist_loss_range_4 = np.arange((num_epochs)/len(hist_ftloss_4),num_epochs+((num_epochs)/len(hist_ftloss_4)),(num_epochs)/len(hist_ftloss_4))\n",
        "hist_loss_range_5 = np.arange((num_epochs)/len(hist_ftloss_5),num_epochs+((num_epochs)/len(hist_ftloss_5)),(num_epochs)/len(hist_ftloss_5))\n",
        "hist_loss_range_6 = np.arange((num_epochs)/len(hist_ftloss_6),num_epochs+((num_epochs)/len(hist_ftloss_6)),(num_epochs)/len(hist_ftloss_6))\n",
        "\n",
        "hist_loss_train_range_1 = np.arange((num_epochs)/len(hist_ftloss_train_1),num_epochs+((num_epochs)/len(hist_ftloss_train_1)),(num_epochs)/len(hist_ftloss_train_1))\n",
        "hist_loss_train_range_2 = np.arange((num_epochs)/len(hist_ftloss_train_2),num_epochs+((num_epochs)/len(hist_ftloss_train_2)),(num_epochs)/len(hist_ftloss_train_2))\n",
        "hist_loss_train_range_3 = np.arange((num_epochs)/len(hist_ftloss_train_3),num_epochs+((num_epochs)/len(hist_ftloss_train_3)),(num_epochs)/len(hist_ftloss_train_3))\n",
        "hist_loss_train_range_4 = np.arange((num_epochs)/len(hist_ftloss_train_4),num_epochs+((num_epochs)/len(hist_ftloss_train_4)),(num_epochs)/len(hist_ftloss_train_4))\n",
        "hist_loss_train_range_5 = np.arange((num_epochs)/len(hist_ftloss_train_5),num_epochs+((num_epochs)/len(hist_ftloss_train_5)),(num_epochs)/len(hist_ftloss_train_5))\n",
        "hist_loss_train_range_6 = np.arange((num_epochs)/len(hist_ftloss_train_6),num_epochs+((num_epochs)/len(hist_ftloss_train_6)),(num_epochs)/len(hist_ftloss_train_6))\n",
        "\n",
        "\n",
        "fig, axs = plt.subplots(1, 2, figsize=(12, 6))                 # 1 riga, 2 colonne\n",
        "step = num_epochs/10\n",
        "\n",
        "# Grafico per la fase di val\n",
        "axs[0].set_title(\"Validation Loss vs. Numero di epoche di addestramento\")\n",
        "axs[0].set_xlabel(\"Epoca di addestramento\")\n",
        "axs[0].set_ylabel(\"Validation Loss\")\n",
        "\n",
        "axs[0].plot(hist_loss_range_1, hist_ftloss_1, label=\"Skybox\")\n",
        "axs[0].plot(hist_loss_range_2, hist_ftloss_2, label=\"Skybox_colore\")\n",
        "axs[0].plot(hist_loss_range_3, hist_ftloss_3, label=\"Skybox-Colore_oggetto\")\n",
        "axs[0].plot(hist_loss_range_4, hist_ftloss_4, label=\"Skybox-Material_oggetto\")\n",
        "axs[0].plot(hist_loss_range_5, hist_ftloss_5, label=\"Skybox-Luci\")\n",
        "axs[0].plot(hist_loss_range_6, hist_ftloss_6, label=\"Skybox-Luci-Material_oggetto\")\n",
        "\n",
        "axs[0].set_ylim((0,5.))\n",
        "axs[0].set_xticks(np.arange(1, num_epochs+1, step))\n",
        "axs[0].legend()\n",
        "axs[0].grid()\n",
        "\n",
        "# Grafico per la fase di train\n",
        "axs[1].set_title(\"Training Loss vs. Numero di epoche di addestramento\")\n",
        "axs[1].set_xlabel(\"Epoca di addestramento\")\n",
        "axs[1].set_ylabel(\"Trainig Loss\")\n",
        "\n",
        "axs[1].plot(hist_loss_train_range_1, hist_ftloss_train_1, label=\"Skybox\")\n",
        "axs[1].plot(hist_loss_train_range_2, hist_ftloss_train_2, label=\"Skybox_colore\")\n",
        "axs[1].plot(hist_loss_train_range_3, hist_ftloss_train_3, label=\"Skybox-Colore_oggetto\")\n",
        "axs[1].plot(hist_loss_train_range_4, hist_ftloss_train_4, label=\"Skybox-Material_oggetto\")\n",
        "axs[1].plot(hist_loss_train_range_5, hist_ftloss_train_5, label=\"Skybox-Luci\")\n",
        "axs[1].plot(hist_loss_train_range_6, hist_ftloss_train_6, label=\"Skybox-Luci-Material_oggetto\")\n",
        "\n",
        "axs[1].set_ylim((0, 10.))\n",
        "axs[1].set_xticks(np.arange(1, num_epochs+1, step))\n",
        "axs[1].legend()\n",
        "axs[1].grid()\n",
        "\n",
        "plt.show()"
      ]
    },
    {
      "cell_type": "markdown",
      "source": [
        "# **PREDIZIONI DEI MODELLI**"
      ],
      "metadata": {
        "id": "0b_MREc3TJ1E"
      }
    },
    {
      "cell_type": "code",
      "execution_count": null,
      "metadata": {
        "id": "PuvrpVuilA42"
      },
      "outputs": [],
      "source": [
        "model_ft_1.eval()       # imposto i modelli in fase di valutazione, in modo da poter visualizzare le immagini reali\n",
        "model_ft_2.eval()\n",
        "model_ft_3.eval()\n",
        "model_ft_4.eval()\n",
        "model_ft_5.eval()\n",
        "model_ft_6.eval()\n",
        "\n",
        "labels_map = {\n",
        "    0: \"apple\",\n",
        "    1: \"bleach_bottle\",\n",
        "    2: \"bolt_cutters\",\n",
        "    3: \"can_rusted\",\n",
        "    4: \"crowbar\",\n",
        "    5: \"dice\",\n",
        "    6: \"drill\",\n",
        "    7: \"flat_screwdriver\",\n",
        "    8: \"garden_gloves\",\n",
        "    9: \"hammer\",\n",
        "    10: \"handsaw_wood\",\n",
        "    11: \"leather_cleaner_can\",\n",
        "    12: \"lemon\",\n",
        "    13: \"lightbulb\",\n",
        "    14: \"magneticlevel_low\",\n",
        "    15: \"measuring_tape\",\n",
        "    16: \"mousetrap\",\n",
        "    17: \"safetyhat_low\",\n",
        "    18: \"small_oil_can\",\n",
        "    19: \"spatula\",\n",
        "}"
      ]
    },
    {
      "cell_type": "code",
      "source": [
        "# Skybox di immagini\n",
        "figure = plt.figure(figsize=(50, 50))\n",
        "cols, rows = 10,\n",
        "for i in range(1, cols * rows + 1):\n",
        "    img, label = image_datasets_1['val'][i-1]\n",
        "    figure.add_subplot(rows, cols, i)\n",
        "    plt.imshow(copy.deepcopy(img).permute(1, 2, 0))\n",
        "\n",
        "    img = img.to(device)\n",
        "    outputs = model_ft(torch.unsqueeze(img,0))\n",
        "    _, pred = torch.topk(outputs, 5, 1)\n",
        "    pred = torch.squeeze(pred)\n",
        "    tempLabel = labels_map[label] + ' => ' + labels_map[pred[0].item()] + ', ' + labels_map[pred[1].item()]\n",
        "\n",
        "    plt.title(tempLabel)\n",
        "    plt.axis(\"off\")\n",
        "\n",
        "plt.show()"
      ],
      "metadata": {
        "id": "A_9jjOp2eNXH"
      },
      "execution_count": null,
      "outputs": []
    },
    {
      "cell_type": "code",
      "source": [
        "# Skybox monocolore\n",
        "figure = plt.figure(figsize=(50, 50))\n",
        "cols, rows = 10,\n",
        "for i in range(1, cols * rows + 1):\n",
        "    img, label = image_datasets_2['val'][i-1]\n",
        "    figure.add_subplot(rows, cols, i)\n",
        "    plt.imshow(copy.deepcopy(img).permute(1, 2, 0))\n",
        "\n",
        "    img = img.to(device)\n",
        "    outputs = model_ft(torch.unsqueeze(img,0))\n",
        "    _, pred = torch.topk(outputs, 5, 1)\n",
        "    pred = torch.squeeze(pred)\n",
        "    tempLabel = labels_map[label] + ' => ' + labels_map[pred[0].item()] + ', ' + labels_map[pred[1].item()]\n",
        "\n",
        "    plt.title(tempLabel)\n",
        "    plt.axis(\"off\")\n",
        "\n",
        "plt.show()"
      ],
      "metadata": {
        "id": "GZC2El6Fe5sG"
      },
      "execution_count": null,
      "outputs": []
    },
    {
      "cell_type": "code",
      "source": [
        "# Skybox di immagini / colore dell'oggetto\n",
        "figure = plt.figure(figsize=(50, 50))\n",
        "cols, rows = 10,\n",
        "for i in range(1, cols * rows + 1):\n",
        "    img, label = image_datasets_3['val'][i-1]\n",
        "    figure.add_subplot(rows, cols, i)\n",
        "    plt.imshow(copy.deepcopy(img).permute(1, 2, 0))\n",
        "\n",
        "    img = img.to(device)\n",
        "    outputs = model_ft(torch.unsqueeze(img,0))\n",
        "    _, pred = torch.topk(outputs, 5, 1)\n",
        "    pred = torch.squeeze(pred)\n",
        "    tempLabel = labels_map[label] + ' => ' + labels_map[pred[0].item()] + ', ' + labels_map[pred[1].item()]\n",
        "\n",
        "    plt.title(tempLabel)\n",
        "    plt.axis(\"off\")\n",
        "\n",
        "plt.show()"
      ],
      "metadata": {
        "id": "g0CvCjl4eNgW"
      },
      "execution_count": null,
      "outputs": []
    },
    {
      "cell_type": "code",
      "source": [
        "# Skybox di immagini / texture dell'oggetto\n",
        "figure = plt.figure(figsize=(50, 50))\n",
        "cols, rows = 10,\n",
        "for i in range(1, cols * rows + 1):\n",
        "    img, label = image_datasets_4['val'][i-1]\n",
        "    figure.add_subplot(rows, cols, i)\n",
        "    plt.imshow(copy.deepcopy(img).permute(1, 2, 0))\n",
        "\n",
        "    img = img.to(device)\n",
        "    outputs = model_ft(torch.unsqueeze(img,0))\n",
        "    _, pred = torch.topk(outputs, 5, 1)\n",
        "    pred = torch.squeeze(pred)\n",
        "    tempLabel = labels_map[label] + ' => ' + labels_map[pred[0].item()] + ', ' + labels_map[pred[1].item()]\n",
        "\n",
        "    plt.title(tempLabel)\n",
        "    plt.axis(\"off\")\n",
        "\n",
        "plt.show()"
      ],
      "metadata": {
        "id": "BrB6EmDgeNnG"
      },
      "execution_count": null,
      "outputs": []
    },
    {
      "cell_type": "code",
      "source": [
        "# Skybox di immagini / intensità, direzzione e colore delle luci\n",
        "figure = plt.figure(figsize=(50, 50))\n",
        "cols, rows = 10,\n",
        "for i in range(1, cols * rows + 1):\n",
        "    img, label = image_datasets_5['val'][i-1]\n",
        "    figure.add_subplot(rows, cols, i)\n",
        "    plt.imshow(copy.deepcopy(img).permute(1, 2, 0))\n",
        "\n",
        "    img = img.to(device)\n",
        "    outputs = model_ft(torch.unsqueeze(img,0))\n",
        "    _, pred = torch.topk(outputs, 5, 1)\n",
        "    pred = torch.squeeze(pred)\n",
        "    tempLabel = labels_map[label] + ' => ' + labels_map[pred[0].item()] + ', ' + labels_map[pred[1].item()]\n",
        "\n",
        "    plt.title(tempLabel)\n",
        "    plt.axis(\"off\")\n",
        "\n",
        "plt.show()"
      ],
      "metadata": {
        "id": "N1AB3nnneNtW"
      },
      "execution_count": null,
      "outputs": []
    },
    {
      "cell_type": "code",
      "source": [
        "# Skybox di immagini / texture dell'oggetto / intensità, direzzione e colore delle luci\n",
        "figure = plt.figure(figsize=(50, 50))\n",
        "cols, rows = 10,\n",
        "for i in range(1, cols * rows + 1):\n",
        "    img, label = image_datasets_6['val'][i-1]\n",
        "    figure.add_subplot(rows, cols, i)\n",
        "    plt.imshow(copy.deepcopy(img).permute(1, 2, 0))\n",
        "\n",
        "    img = img.to(device)\n",
        "    outputs = model_ft(torch.unsqueeze(img,0))\n",
        "    _, pred = torch.topk(outputs, 5, 1)\n",
        "    pred = torch.squeeze(pred)\n",
        "    tempLabel = labels_map[label] + ' => ' + labels_map[pred[0].item()] + ', ' + labels_map[pred[1].item()]\n",
        "\n",
        "    plt.title(tempLabel)\n",
        "    plt.axis(\"off\")\n",
        "\n",
        "plt.show()"
      ],
      "metadata": {
        "id": "z9qsUSCNeNzm"
      },
      "execution_count": null,
      "outputs": []
    }
  ],
  "metadata": {
    "accelerator": "GPU",
    "colab": {
      "provenance": [],
      "gpuType": "T4",
      "collapsed_sections": [
        "qjrPnaTJRq-1",
        "SB9xt6YHQUbM",
        "0b_MREc3TJ1E"
      ],
      "authorship_tag": "ABX9TyPjGz1qDBOlcc2e+SeX3ph9",
      "include_colab_link": true
    },
    "kernelspec": {
      "display_name": "Python 3",
      "name": "python3"
    },
    "language_info": {
      "name": "python"
    }
  },
  "nbformat": 4,
  "nbformat_minor": 0
}